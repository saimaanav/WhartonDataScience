{
 "cells": [
  {
   "cell_type": "markdown",
   "metadata": {},
   "source": [
    "# Starting ideas\n",
    "## Bradley terry\n",
    "$$P(i > j) = \\frac{p_i}{p_i + p_j}$$\n",
    "p_i = some rating system\n"
   ]
  },
  {
   "cell_type": "code",
   "execution_count": null,
   "metadata": {},
   "outputs": [],
   "source": [
    "def calcProbability(ratingI, ratingJ):\n",
    "    return ratingI/(ratingI+ratingJ)"
   ]
  }
 ],
 "metadata": {
  "language_info": {
   "name": "python"
  }
 },
 "nbformat": 4,
 "nbformat_minor": 2
}
